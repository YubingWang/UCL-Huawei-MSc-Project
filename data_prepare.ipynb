{
  "cells": [
    {
      "cell_type": "code",
      "execution_count": 1,
      "metadata": {
        "id": "EJbqm4U3BCge"
      },
      "outputs": [],
      "source": [
        "import os"
      ]
    },
    {
      "cell_type": "code",
      "execution_count": 2,
      "metadata": {
        "id": "kfNa-THhMrGV"
      },
      "outputs": [],
      "source": [
        "all = []\n",
        "\n",
        "for foldername in os.listdir(\"Chinese_Lyrics\"):\n",
        "    if foldername != '.DS_Store':\n",
        "        for filename in os.listdir(os.path.join(\"Chinese_Lyrics\", foldername)):\n",
        "            with open(os.path.join(os.path.join(\"Chinese_Lyrics\", foldername), filename), 'r', encoding='utf-8') as f:\n",
        "                text = f.read().replace('\\n', ' ')\n",
        "                all.append(text)"
      ]
    },
    {
      "cell_type": "code",
      "execution_count": 3,
      "metadata": {
        "id": "aJBPN0Uxgt9I"
      },
      "outputs": [],
      "source": [
        "with open('lyric.txt', 'w', encoding='utf-8') as f:\n",
        "    for line in all:\n",
        "        f.write(line)\n",
        "        f.write('\\n')"
      ]
    },
    {
      "cell_type": "code",
      "execution_count": 4,
      "metadata": {
        "id": "lDNQ1d7qMrOH"
      },
      "outputs": [],
      "source": [
        "singer = []\n",
        "for foldername in os.listdir(\"Chinese_Lyrics\"):\n",
        "    num = foldername.find('_')\n",
        "    singer.append(foldername[:num])\n",
        "\n",
        "singer = singer[1:]"
      ]
    },
    {
      "cell_type": "code",
      "execution_count": 7,
      "metadata": {
        "id": "K444k0Ycg4l9"
      },
      "outputs": [],
      "source": [
        "with open('singer.txt', 'w', encoding='utf-8') as f:\n",
        "    for sin in singer:\n",
        "        f.write(sin)\n",
        "        f.write('\\n')"
      ]
    },
    {
      "cell_type": "code",
      "execution_count": null,
      "metadata": {},
      "outputs": [],
      "source": []
    }
  ],
  "metadata": {
    "colab": {
      "collapsed_sections": [],
      "name": "data_prepare.ipynb",
      "provenance": []
    },
    "kernelspec": {
      "display_name": "Python 3.9.7 ('comp0090-cw1')",
      "language": "python",
      "name": "python3"
    },
    "language_info": {
      "codemirror_mode": {
        "name": "ipython",
        "version": 3
      },
      "file_extension": ".py",
      "mimetype": "text/x-python",
      "name": "python",
      "nbconvert_exporter": "python",
      "pygments_lexer": "ipython3",
      "version": "3.9.7"
    },
    "vscode": {
      "interpreter": {
        "hash": "f8e02499157ffd13ceaee2ccfe3877dd4597656eb80c7368803f96a9899318a9"
      }
    }
  },
  "nbformat": 4,
  "nbformat_minor": 0
}
