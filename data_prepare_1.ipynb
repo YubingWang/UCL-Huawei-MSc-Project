{
  "nbformat": 4,
  "nbformat_minor": 0,
  "metadata": {
    "colab": {
      "name": "data_prepare_1.ipynb",
      "provenance": [],
      "collapsed_sections": []
    },
    "kernelspec": {
      "name": "python3",
      "display_name": "Python 3"
    },
    "language_info": {
      "name": "python"
    }
  },
  "cells": [
    {
      "cell_type": "code",
      "source": [
        "import os"
      ],
      "metadata": {
        "id": "EJbqm4U3BCge"
      },
      "execution_count": null,
      "outputs": []
    },
    {
      "cell_type": "code",
      "source": [
        "all = []\n",
        "\n",
        "for foldername in os.listdir(\"Chinese_Lyrics\"):\n",
        "    if foldername != '.DS_Store':\n",
        "        for filename in os.listdir(os.path.join(\"Chinese_Lyrics\", foldername)):\n",
        "            with open(os.path.join(os.path.join(\"Chinese_Lyrics\", foldername), filename), 'r', encoding='utf-8') as f:\n",
        "                text = f.read().replace('\\n', '，')\n",
        "                all.append(text)"
      ],
      "metadata": {
        "id": "kfNa-THhMrGV"
      },
      "execution_count": null,
      "outputs": []
    },
    {
      "cell_type": "code",
      "source": [
        "singer = []\n",
        "for foldername in os.listdir(\"Chinese_Lyrics\"):\n",
        "    num = foldername.find('_')\n",
        "    singer.append(foldername[:num])\n",
        "\n",
        "singer = singer[1:]"
      ],
      "metadata": {
        "id": "aJBPN0Uxgt9I"
      },
      "execution_count": null,
      "outputs": []
    },
    {
      "cell_type": "code",
      "source": [
        "special_char = ['!','#','$','%', '&','@','_', '~', '－', '-', '*', '^']\n",
        "spaces = ['          ', '         ', '        ', '       ', '      ', '     ', '    ', '   ', '  ']\n",
        "seps = ['，，，，，，，', '，，，，，，', '，，，，，', '，，，，', '，，，', '，，']\n",
        "\n",
        "for sin in singer:\n",
        "    special_char.append(sin)\n"
      ],
      "metadata": {
        "id": "lDNQ1d7qMrOH"
      },
      "execution_count": null,
      "outputs": []
    },
    {
      "cell_type": "code",
      "source": [
        "import re"
      ],
      "metadata": {
        "id": "K444k0Ycg4l9"
      },
      "execution_count": null,
      "outputs": []
    },
    {
      "cell_type": "code",
      "source": [
        "for i in range(len(all)):\n",
        "    for char in special_char:\n",
        "        all[i] = all[i].replace(char,'')\n",
        "    x = all[i]\n",
        "    all[i] = \"\".join(re.split(\"\\(|\\)|\\[|\\]|\\『|\\』|\\☆|\\☆|\\<|\\>|\\《|\\》|\\（|\\）|\\{|\\}|\\【|\\】|\\‘|\\’|\\“|\\”|\\'|\\'|\\\"|\\\"\", x)[::2])\n",
        "    for spa in spaces:\n",
        "        all[i] = all[i].replace(spa, ' ')\n",
        "    for sep in seps:\n",
        "        all[i] = all[i].replace(sep, '，')"
      ],
      "metadata": {
        "id": "ADXsRJR8L5_K"
      },
      "execution_count": null,
      "outputs": []
    },
    {
      "cell_type": "code",
      "source": [
        "with open('lyric.txt', 'w', encoding='utf-8') as f:\n",
        "    for line in all:\n",
        "        f.write(line)\n",
        "        f.write('\\n')"
      ],
      "metadata": {
        "id": "k6aTUshTL6Bf"
      },
      "execution_count": null,
      "outputs": []
    },
    {
      "cell_type": "code",
      "source": [
        ""
      ],
      "metadata": {
        "id": "LS0KHUh8L--7"
      },
      "execution_count": null,
      "outputs": []
    }
  ]
}